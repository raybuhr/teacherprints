{
 "cells": [
  {
   "cell_type": "code",
   "execution_count": 1,
   "metadata": {},
   "outputs": [],
   "source": [
    "# Pulling ideas from: https://github.com/marl/audiosetdl/blob/master/notebooks/download.ipynb\n",
    "from IPython.display import Audio\n",
    "import pafy\n",
    "import subprocess as sp"
   ]
  },
  {
   "cell_type": "code",
   "execution_count": 2,
   "metadata": {},
   "outputs": [],
   "source": [
    "# Set output settings\n",
    "# audio_codec = 'libmp3lame'\n",
    "audio_codec = 'pcm_s16le'\n",
    "# audio_container = 'libmp3lame'\n",
    "ffmpeg_path = '/snap/bin/ffmpeg'"
   ]
  },
  {
   "cell_type": "code",
   "execution_count": 3,
   "metadata": {},
   "outputs": [
    {
     "name": "stdout",
     "output_type": "stream",
     "text": [
      "4Yl6u9n4USw\n"
     ]
    }
   ],
   "source": [
    "clip_dict = {\n",
    "#     'ferris-bueller': 'uhiCFdWeQfA',\n",
    "#     'school-of-rock': 'yMvpJDbWX_c',\n",
    "#     'dead-poets': 'gQU3EphIpMY',\n",
    "#     'stand-and-deliver': 'YKqT57N9Y3Y',\n",
    "#     'turn-and-talk': 'https://vimeo.com/148670287'\n",
    "#         'tz_swahili' : '_Z_LJC52Sxs',\n",
    "#         'tz_math'    : '2hVE4SGhzGk',\n",
    "#         'tz_science' : '6yQW6atAwSc',\n",
    "        'tz_english' : '4Yl6u9n4USw'\n",
    "            }\n",
    "\n",
    "for ytid in clip_dict.values():\n",
    "    print(ytid)"
   ]
  },
  {
   "cell_type": "code",
   "execution_count": 4,
   "metadata": {},
   "outputs": [],
   "source": [
    "def get_audio_from_ytid(label, ytid, other=None):\n",
    "    \"\"\" Given a YouTube ID (ytid), download the audio and convert it to\n",
    "        a .wav file\n",
    "    \"\"\"\n",
    "#     video_page_url = f'https://www.youtube.com/watch?v={ytid}'\n",
    "    video_page_url = f'https://vimeo.com/148670287'\n",
    "    if other is not None:\n",
    "        video_page_url = other\n",
    "    else:\n",
    "        video_page_url = f'https://www.youtube.com/watch?v={ytid}'\n",
    "    audio_filepath = f'./{label}.wav'\n",
    "    \n",
    "    # Get the direct URLs to the videos with best audio and with best video (with audio)\n",
    "    video = pafy.new(video_page_url)\n",
    "\n",
    "    best_audio = video.getbestaudio()\n",
    "    best_audio_url = best_audio.url\n",
    "    print(\"Audio URL: \" + best_audio_url)\n",
    "\n",
    "    # This is the command we use to convert our mp3s to wav elsewhere\n",
    "    # ffmpeg  -hide_banner\n",
    "    #         -nostats\n",
    "    #         -loglevel fatal\n",
    "    #         -nostdin\n",
    "    #         -i ./ferris-bueller.mp3\n",
    "    #         -acodec pcm_s16le\n",
    "    #         -ac 1\n",
    "    #         -ar 16000\n",
    "    #         -y ./ferris-bueller.wav\n",
    "    \n",
    "    # Download the audio\n",
    "    audio_dl_args = [ffmpeg_path,\n",
    "    #     '-ss', str(ts_start),    # The beginning of the trim window\n",
    "    #     '-t', str(duration),     # Specify the duration of the output\n",
    "#         '-hide_banner',\n",
    "#         '-nostats',\n",
    "#         '-loglevel', 'fatal',\n",
    "#         '-nostdin',\n",
    "        '-i', best_audio_url,    # Specify the input video URL\n",
    "        '-vn',                   # Suppress the video stream\n",
    "        '-ac', '1',              # Set the number of channels\n",
    "        '-acodec', audio_codec,  # Specify the output encoding\n",
    "        '-ar', '16000',          # Specify the audio sample rate\n",
    "        '-y', audio_filepath]\n",
    "    \n",
    "    proc = sp.Popen(audio_dl_args, stdout=sp.PIPE, stderr=sp.PIPE)\n",
    "    stdout, stderr = proc.communicate()\n",
    "    if proc.returncode != 0:\n",
    "        print(stderr)\n",
    "    else:\n",
    "        print(\"Downloaded audio to \" + audio_filepath)"
   ]
  },
  {
   "cell_type": "code",
   "execution_count": 5,
   "metadata": {},
   "outputs": [
    {
     "name": "stdout",
     "output_type": "stream",
     "text": [
      "Audio URL: https://manifest.googlevideo.com/api/manifest/dash/expire/1593490492/ei/3Gf6XrmSItSPir4PgoCdyAU/ip/3.128.45.141/id/e1897abbd9f8512c/source/youtube/requiressl/yes/playback_host/r3---sn-p5qs7nes.googlevideo.com/mh/xE/mm/31%2C26/mn/sn-p5qs7nes%2Csn-vgqsknel/ms/au%2Conr/mv/u/mvi/2/pl/21/hfr/all/as/fmp4_audio_clear%2Cwebm_audio_clear%2Cwebm2_audio_clear%2Cfmp4_sd_hd_clear%2Cwebm2_sd_hd_clear/vprv/1/mt/1593468243/fvip/3/keepalive/yes/beids/9466585/itag/0/sparams/expire%2Cei%2Cip%2Cid%2Csource%2Crequiressl%2Chfr%2Cas%2Cvprv%2Citag/sig/AOq0QJ8wRAIgZ0kxcw3PcHBnBDa4LtF_5ZLhKr3GRTpZv6PiHT4COacCIFTcxDcE6fqPrj6JhspzTyzN3sc6rOrNmBeut4P7otzi/lsparams/playback_host%2Cmh%2Cmm%2Cmn%2Cms%2Cmv%2Cmvi%2Cpl/lsig/AG3C_xAwRQIgNDO4xAkdXMVFW-qVeOFv4mccTm1Pi1fMx_oonKqZmVYCIQCnw1IXSfRtGNoLW_Up7De7oXsBtHYm9L93GtPZyFPMxg%3D%3D\n",
      "b'Error: unable to open display \\nffmpeg version n4.1.4 Copyright (c) 2000-2019 the FFmpeg developers\\n  built with gcc 7 (Ubuntu 7.4.0-1ubuntu1~18.04.1)\\n  configuration: --prefix= --prefix=/usr --disable-debug --disable-doc --disable-static --enable-avisynth --enable-cuda --enable-cuvid --enable-libdrm --enable-ffplay --enable-gnutls --enable-gpl --enable-libass --enable-libfdk-aac --enable-libfontconfig --enable-libfreetype --enable-libmp3lame --enable-libopencore_amrnb --enable-libopencore_amrwb --enable-libopus --enable-libpulse --enable-sdl2 --enable-libspeex --enable-libtheora --enable-libtwolame --enable-libv4l2 --enable-libvorbis --enable-libvpx --enable-libx264 --enable-libx265 --enable-libxcb --enable-libxvid --enable-nonfree --enable-nvenc --enable-omx --enable-openal --enable-opencl --enable-runtime-cpudetect --enable-shared --enable-vaapi --enable-vdpau --enable-version3 --enable-xlib\\n  libavutil      56. 22.100 / 56. 22.100\\n  libavcodec     58. 35.100 / 58. 35.100\\n  libavformat    58. 20.100 / 58. 20.100\\n  libavdevice    58.  5.100 / 58.  5.100\\n  libavfilter     7. 40.101 /  7. 40.101\\n  libswscale      5.  3.100 /  5.  3.100\\n  libswresample   3.  3.100 /  3.  3.100\\n  libpostproc    55.  3.100 / 55.  3.100\\nhttps://manifest.googlevideo.com/api/manifest/dash/expire/1593490492/ei/3Gf6XrmSItSPir4PgoCdyAU/ip/3.128.45.141/id/e1897abbd9f8512c/source/youtube/requiressl/yes/playback_host/r3---sn-p5qs7nes.googlevideo.com/mh/xE/mm/31%2C26/mn/sn-p5qs7nes%2Csn-vgqsknel/ms/au%2Conr/mv/u/mvi/2/pl/21/hfr/all/as/fmp4_audio_clear%2Cwebm_audio_clear%2Cwebm2_audio_clear%2Cfmp4_sd_hd_clear%2Cwebm2_sd_hd_clear/vprv/1/mt/1593468243/fvip/3/keepalive/yes/beids/9466585/itag/0/sparams/expire%2Cei%2Cip%2Cid%2Csource%2Crequiressl%2Chfr%2Cas%2Cvprv%2Citag/sig/AOq0QJ8wRAIgZ0kxcw3PcHBnBDa4LtF_5ZLhKr3GRTpZv6PiHT4COacCIFTcxDcE6fqPrj6JhspzTyzN3sc6rOrNmBeut4P7otzi/lsparams/playback_host%2Cmh%2Cmm%2Cmn%2Cms%2Cmv%2Cmvi%2Cpl/lsig/AG3C_xAwRQIgNDO4xAkdXMVFW-qVeOFv4mccTm1Pi1fMx_oonKqZmVYCIQCnw1IXSfRtGNoLW_Up7De7oXsBtHYm9L93GtPZyFPMxg%3D%3D: Invalid data found when processing input\\n'\n"
     ]
    }
   ],
   "source": [
    "for k, v in clip_dict.items():\n",
    "    get_audio_from_ytid(k, v)\n",
    "# get_audio_from_ytid('stand-and-deliver','YKqT57N9Y3Y')\n",
    "# get_audio_from_ytid(label='turn-and-talk', ytid=None, other='../data/nyc_vids/turn-and-talk_nyc_148670287.mp4')"
   ]
  },
  {
   "cell_type": "code",
   "execution_count": 6,
   "metadata": {},
   "outputs": [],
   "source": [
    "# Play video using IPython widget\n",
    "# Audio('./ferris-bueller.wav')"
   ]
  },
  {
   "cell_type": "code",
   "execution_count": 7,
   "metadata": {},
   "outputs": [],
   "source": [
    "# Audio('./school-of-rock.wav')"
   ]
  },
  {
   "cell_type": "code",
   "execution_count": 8,
   "metadata": {},
   "outputs": [],
   "source": [
    "# Audio('./dead-poets.wav')"
   ]
  },
  {
   "cell_type": "code",
   "execution_count": 9,
   "metadata": {},
   "outputs": [],
   "source": [
    "# Play video using IPython widget\n",
    "# Audio('./tz_swahili.wav')"
   ]
  },
  {
   "cell_type": "code",
   "execution_count": 10,
   "metadata": {},
   "outputs": [],
   "source": [
    "# Play video using IPython widget\n",
    "# Audio('./tz_math.wav')"
   ]
  },
  {
   "cell_type": "code",
   "execution_count": 11,
   "metadata": {},
   "outputs": [],
   "source": [
    "# Play video using IPython widget\n",
    "# Audio('./tz_science.wav')"
   ]
  },
  {
   "cell_type": "code",
   "execution_count": 12,
   "metadata": {},
   "outputs": [],
   "source": [
    "# Play video using IPython widget\n",
    "# Audio('./tz_english.wav')"
   ]
  },
  {
   "cell_type": "code",
   "execution_count": 13,
   "metadata": {},
   "outputs": [],
   "source": [
    "# from IPython.display import Audio\n",
    "# Audio('./tz_science.wav')"
   ]
  },
  {
   "cell_type": "code",
   "execution_count": 14,
   "metadata": {},
   "outputs": [],
   "source": [
    "# For each \n",
    "# !youtube-dl https://www.youtube.com/watch?v=2hVE4SGhzGk\n",
    "# !ffmpeg -hide_banner -nostats -nostdin -vn -ac 1 -acodec pcm_s16le -ar 16000 -y tz_math.wav -i ../data/tz_math_video.mp4"
   ]
  },
  {
   "cell_type": "code",
   "execution_count": null,
   "metadata": {},
   "outputs": [],
   "source": []
  }
 ],
 "metadata": {
  "kernelspec": {
   "display_name": "Python 3",
   "language": "python",
   "name": "python3"
  },
  "language_info": {
   "codemirror_mode": {
    "name": "ipython",
    "version": 3
   },
   "file_extension": ".py",
   "mimetype": "text/x-python",
   "name": "python",
   "nbconvert_exporter": "python",
   "pygments_lexer": "ipython3",
   "version": "3.8.3"
  }
 },
 "nbformat": 4,
 "nbformat_minor": 4
}
